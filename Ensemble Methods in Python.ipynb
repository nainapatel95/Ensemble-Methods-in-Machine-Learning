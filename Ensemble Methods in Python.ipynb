{
 "cells": [
  {
   "cell_type": "markdown",
   "id": "3cb8b902",
   "metadata": {},
   "source": [
    "#### 1. Averaging Method"
   ]
  },
  {
   "cell_type": "markdown",
   "id": "48f83eea",
   "metadata": {},
   "source": [
    "* Ensemble averaging is a technique in machine learning where multiple models are combined to produce a more accurate prediction than any individual model. It is one of the simplest types of ensemble methods, along with boosting.\n",
    "* The key idea is to create a set of models with low bias and high variance, then average their predictions to obtain a model with low bias and low variance. This helps resolve the bias-variance tradeoff."
   ]
  },
  {
   "cell_type": "code",
   "execution_count": 15,
   "id": "95e1d163",
   "metadata": {},
   "outputs": [
    {
     "name": "stdout",
     "output_type": "stream",
     "text": [
      "Accuracy: 95.61%\n"
     ]
    }
   ],
   "source": [
    "# Import utilities modules and ML models for predictions\n",
    "from sklearn.ensemble import VotingClassifier\n",
    "from sklearn.model_selection import train_test_split\n",
    "from sklearn.ensemble import RandomForestClassifier, GradientBoostingClassifier\n",
    "from sklearn.datasets import load_breast_cancer\n",
    "from sklearn.metrics import accuracy_score\n",
    "\n",
    "# Load and split the dataset\n",
    "cancer = load_breast_cancer()\n",
    "X_train, X_test, y_train, y_test = train_test_split(cancer.data, cancer.target, test_size=0.2, random_state=42)\n",
    "\n",
    "# Define base models\n",
    "rf_model = RandomForestClassifier(n_estimators=10, random_state=42)\n",
    "gb_model = GradientBoostingClassifier(n_estimators=10, random_state=42)\n",
    "\n",
    "# Create an ensemble using averaging\n",
    "averaging_model = VotingClassifier(estimators=[('rf', rf_model), ('gb', gb_model)], voting='soft')\n",
    "averaging_model.fit(X_train, y_train)\n",
    "\n",
    "# Predict and evaluate\n",
    "y_pred = averaging_model.predict(X_test)\n",
    "accuracy = accuracy_score(y_test, y_pred)\n",
    "print(\"Accuracy: {:.2f}%\".format(accuracy * 100))"
   ]
  },
  {
   "cell_type": "markdown",
   "id": "3da11864",
   "metadata": {},
   "source": [
    " #### Bagging:\n",
    "* It is also known as a bootstrapping method. \n",
    "* Base models are run on bags to get a fair distribution of the whole dataset. \n",
    "* A bag is a subset of the dataset along with a replacement to make the size of the bag the same as the whole dataset. \n",
    "* The final output is formed after combining the output of all base models. "
   ]
  },
  {
   "cell_type": "code",
   "execution_count": 25,
   "id": "40389b4b",
   "metadata": {},
   "outputs": [
    {
     "name": "stdout",
     "output_type": "stream",
     "text": [
      "0.02899591298226622\n"
     ]
    }
   ],
   "source": [
    "# importing utility modules\n",
    "import pandas as pd\n",
    "from sklearn.model_selection import train_test_split\n",
    "from sklearn.metrics import mean_squared_error\n",
    "\n",
    "# importing machine learning models for prediction\n",
    "import xgboost as xgb\n",
    "\n",
    "# importing bagging module\n",
    "from sklearn.ensemble import BaggingRegressor\n",
    "\n",
    "# loading cancer dataset from sklearn\n",
    "from sklearn.datasets import load_breast_cancer\n",
    "data = load_breast_cancer()\n",
    "\n",
    "# getting target data from the dataset\n",
    "target = data.target\n",
    "\n",
    "# getting train data from the dataset\n",
    "train = data.data\n",
    "\n",
    "# Splitting between train data into training and validation dataset\n",
    "X_train, X_test, y_train, y_test = train_test_split(train, target, test_size=0.20)\n",
    "\n",
    "# initializing the bagging model using XGboost as base model with default parameters\n",
    "model = BaggingRegressor(base_estimator=xgb.XGBRegressor())\n",
    "\n",
    "# training model\n",
    "model.fit(X_train, y_train)\n",
    "\n",
    "# predicting the output on the test dataset\n",
    "pred = model.predict(X_test)\n",
    "\n",
    "# printing the mean squared error between real value and predicted value\n",
    "print(mean_squared_error(y_test, pred))\n"
   ]
  },
  {
   "cell_type": "markdown",
   "id": "f39a1fec",
   "metadata": {},
   "source": [
    "#### Boosting: \n",
    "* Boosting is a sequential method–it aims to prevent a wrong base model from affecting the final output. \n",
    "* Instead of combining the base models, the method focuses on building a new model that is dependent on the previous one.\n",
    "* A new model tries to remove the errors made by its previous one. \n",
    "* Each of these models is called weak learners.\n",
    "* The final model (aka strong learner) is formed by getting the weighted mean of all the weak learners. "
   ]
  },
  {
   "cell_type": "code",
   "execution_count": 23,
   "id": "21bbeed6",
   "metadata": {},
   "outputs": [
    {
     "name": "stdout",
     "output_type": "stream",
     "text": [
      "Mean Squared Error: 0.0322\n"
     ]
    }
   ],
   "source": [
    "# importing utility modules and ML models for prediction\n",
    "from sklearn.datasets import load_breast_cancer\n",
    "from sklearn.model_selection import train_test_split\n",
    "from sklearn.ensemble import GradientBoostingRegressor\n",
    "from sklearn.metrics import mean_squared_error\n",
    "\n",
    "# Load the cancer dataset\n",
    "cancer = load_breast_cancer()\n",
    "\n",
    "# Get the features and target\n",
    "X = cancer.data\n",
    "y = cancer.target\n",
    "\n",
    "# Split the data into training and testing sets\n",
    "X_train, X_test, y_train, y_test = train_test_split(X, y, test_size=0.2, random_state=42)\n",
    "\n",
    "# Create and train the Gradient Boosting Regressor\n",
    "model = GradientBoostingRegressor()\n",
    "model.fit(X_train, y_train)\n",
    "\n",
    "# Make predictions on the testing set\n",
    "y_pred = model.predict(X_test)\n",
    "\n",
    "# Calculate the Mean Squared Error\n",
    "mse = mean_squared_error(y_test, y_pred)\n",
    "print(f\"Mean Squared Error: {mse:.4f}\")"
   ]
  },
  {
   "cell_type": "code",
   "execution_count": null,
   "id": "cdcfcbd9",
   "metadata": {},
   "outputs": [],
   "source": []
  },
  {
   "cell_type": "code",
   "execution_count": null,
   "id": "f990d9f8",
   "metadata": {},
   "outputs": [],
   "source": []
  }
 ],
 "metadata": {
  "kernelspec": {
   "display_name": "Python 3 (ipykernel)",
   "language": "python",
   "name": "python3"
  },
  "language_info": {
   "codemirror_mode": {
    "name": "ipython",
    "version": 3
   },
   "file_extension": ".py",
   "mimetype": "text/x-python",
   "name": "python",
   "nbconvert_exporter": "python",
   "pygments_lexer": "ipython3",
   "version": "3.9.12"
  }
 },
 "nbformat": 4,
 "nbformat_minor": 5
}
